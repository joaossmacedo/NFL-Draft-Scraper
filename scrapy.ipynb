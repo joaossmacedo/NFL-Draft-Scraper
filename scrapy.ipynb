{
 "nbformat": 4,
 "nbformat_minor": 2,
 "metadata": {
  "language_info": {
   "name": "python",
   "codemirror_mode": {
    "name": "ipython",
    "version": 3
   },
   "version": "3.8.2-final"
  },
  "orig_nbformat": 2,
  "file_extension": ".py",
  "mimetype": "text/x-python",
  "name": "python",
  "npconvert_exporter": "python",
  "pygments_lexer": "ipython3",
  "version": 3,
  "kernelspec": {
   "name": "python38264bitnflscrapyconda25156b98acc14fb3a3b340cccbe41626",
   "display_name": "Python 3.8.2 64-bit ('nfl-scrapy': conda)"
  }
 },
 "cells": [
  {
   "cell_type": "markdown",
   "metadata": {},
   "source": [
    "## Imports"
   ]
  },
  {
   "cell_type": "code",
   "execution_count": 61,
   "metadata": {},
   "outputs": [],
   "source": [
    "import requests\n",
    "from bs4 import BeautifulSoup\n",
    "import csv"
   ]
  },
  {
   "cell_type": "markdown",
   "metadata": {},
   "source": [
    "## Getting HTML"
   ]
  },
  {
   "cell_type": "code",
   "execution_count": 62,
   "metadata": {},
   "outputs": [],
   "source": [
    "URL = 'https://www.pro-football-reference.com/play-index/draft-finder.cgi?request=1&year_min=1970&year_max=2019&draft_slot_min=1&draft_slot_max=500&pick_type=overall&pos%5B%5D=qb&pos%5B%5D=rb&pos%5B%5D=wr&pos%5B%5D=te&pos%5B%5D=e&pos%5B%5D=t&pos%5B%5D=g&pos%5B%5D=c&pos%5B%5D=ol&pos%5B%5D=dt&pos%5B%5D=de&pos%5B%5D=dl&pos%5B%5D=ilb&pos%5B%5D=olb&pos%5B%5D=lb&pos%5B%5D=cb&pos%5B%5D=s&pos%5B%5D=db&pos%5B%5D=k&pos%5B%5D=p&conference=any&show=all&order_by=default'\n",
    "page = requests.get(URL)\n",
    "\n",
    "soup = BeautifulSoup(page.content, 'html.parser')"
   ]
  },
  {
   "cell_type": "markdown",
   "metadata": {},
   "source": [
    "## Scrapping"
   ]
  },
  {
   "cell_type": "code",
   "execution_count": 63,
   "metadata": {},
   "outputs": [],
   "source": [
    "def get_all_rows(soup):\n",
    "    table = soup.find(id='results')\n",
    "    tbody = table.find('tbody')\n",
    "    trs = tbody.find_all('tr')\n",
    "\n",
    "    return trs"
   ]
  },
  {
   "cell_type": "code",
   "execution_count": 73,
   "metadata": {},
   "outputs": [],
   "source": [
    "def isEmpty(td):\n",
    "    return td is None # or len(td) <= 0\n",
    "\n",
    "\n",
    "def scrapy_row(tr):\n",
    "    identity = None\n",
    "    body = None\n",
    "\n",
    "    td_year = tr.find('td', {'data-stat': 'year_id'})\n",
    "    td_round = tr.find('td', {'data-stat': 'draft_round'})\n",
    "    td_pick = tr.find('td', {'data-stat': 'draft_pick'})\n",
    "\n",
    "    td_name = tr.find('td', {'data-stat': 'player'})\n",
    "    td_position = tr.find('td', {'data-stat': 'pos'})\n",
    "    td_age = tr.find('td', {'data-stat': 'draft_age'})\n",
    "    td_first_team_ap = tr.find('td', {'data-stat': 'all_pros_first_team'})\n",
    "    td_pro_bowls = tr.find('td', {'data-stat': 'pro_bowls'})\n",
    "    td_team = tr.find('td', {'data-stat': 'team'})\n",
    "    td_av = tr.find('td', {'data-stat': 'career_av'})\n",
    "    if isEmpty(td_year): #or isEmpty(td_round) or isEmpty(td_pick) or isEmpty(td_av):\n",
    "        return None\n",
    "\n",
    "    data = {}\n",
    "\n",
    "    data['year'] = td_year.find('a').text\n",
    "    data['round'] = td_round.text\n",
    "    data['pick'] = td_pick.text\n",
    "    data['player_name'] = td_name.text\n",
    "    data['position'] = td_position.text\n",
    "    data['age'] = td_age.text\n",
    "    data['first_team_ap'] = td_first_team_ap.text\n",
    "    data['pro_bowls'] = td_pro_bowls.text\n",
    "    data['team'] = td_team.text\n",
    "\n",
    "    av = td_av.text\n",
    "    if av == '':\n",
    "        av = '0'\n",
    "    data['av'] = av\n",
    "\n",
    "    return data"
   ]
  },
  {
   "cell_type": "code",
   "execution_count": 74,
   "metadata": {
    "tags": [
     "outputPrepend",
     "outputPrepend",
     "outputPrepend"
    ]
   },
   "outputs": [],
   "source": [
    "trs = get_all_rows(soup)\n",
    "players = []\n",
    "for tr in trs:\n",
    "     player = scrapy_row(tr)\n",
    "     if player is None:\n",
    "          continue\n",
    "\n",
    "     players.append(player)"
   ]
  },
  {
   "cell_type": "code",
   "execution_count": 75,
   "metadata": {},
   "outputs": [],
   "source": [
    "with open('drafted_players.csv', 'w', newline='') as csvfile:\n",
    "    fieldnames = ['year', 'round', 'pick', 'player_name', 'position', 'age', 'first_team_ap',                    'pro_bowls', 'team', 'av']\n",
    "    writer = csv.DictWriter(csvfile, fieldnames=fieldnames)\n",
    "    writer.writeheader()\n",
    "\n",
    "    for player in players:\n",
    "        writer.writerow(player)"
   ]
  }
 ]
}